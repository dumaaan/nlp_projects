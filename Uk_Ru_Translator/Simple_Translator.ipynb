{
  "nbformat": 4,
  "nbformat_minor": 0,
  "metadata": {
    "anaconda-cloud": {},
    "colab": {
      "name": "Simple_Translator.ipynb",
      "provenance": [],
      "collapsed_sections": [],
      "machine_shape": "hm",
      "include_colab_link": true
    },
    "kernelspec": {
      "display_name": "Py3 research env",
      "language": "python",
      "name": "py3_research"
    },
    "language_info": {
      "codemirror_mode": {
        "name": "ipython",
        "version": 3
      },
      "file_extension": ".py",
      "mimetype": "text/x-python",
      "name": "python",
      "nbconvert_exporter": "python",
      "pygments_lexer": "ipython3",
      "version": "3.6.7"
    }
  },
  "cells": [
    {
      "cell_type": "markdown",
      "metadata": {
        "id": "view-in-github",
        "colab_type": "text"
      },
      "source": [
        "<a href=\"https://colab.research.google.com/github/dumaaan/nlp_projects/blob/master/Uk_Ru_Translator/Simple_Translator.ipynb\" target=\"_parent\"><img src=\"https://colab.research.google.com/assets/colab-badge.svg\" alt=\"Open In Colab\"/></a>"
      ]
    },
    {
      "cell_type": "markdown",
      "metadata": {
        "colab_type": "text",
        "id": "eulvfJWl7ueY"
      },
      "source": [
        "# Lab 1\n",
        "\n",
        "\n",
        "## Part 1: Bilingual dictionary induction and unsupervised embedding-based MT (30%)\n",
        "*Note: this is based on materials from yandexdataschool [NLP course](https://github.com/yandexdataschool/nlp_course/). Feel free to check this awesome course if you wish to dig deeper.*"
      ]
    },
    {
      "cell_type": "markdown",
      "metadata": {
        "colab_type": "text",
        "id": "YLppwa527ue6"
      },
      "source": [
        "## Data"
      ]
    },
    {
      "cell_type": "code",
      "metadata": {
        "colab_type": "code",
        "id": "lYBGKAUn7ue_",
        "colab": {}
      },
      "source": [
        "import gensim\n",
        "import numpy as np\n",
        "from gensim.models import KeyedVectors"
      ],
      "execution_count": 0,
      "outputs": []
    },
    {
      "cell_type": "markdown",
      "metadata": {
        "colab_type": "text",
        "id": "MwGoVhRA7ufP"
      },
      "source": [
        "We're going to use pretrained word vectors - FastText (original paper - https://arxiv.org/abs/1607.04606).\n",
        "\n",
        "You can download them from the official [website](https://fasttext.cc/docs/en/crawl-vectors.html). We're going to need embeddings for Russian and Ukrainian languages."
      ]
    },
    {
      "cell_type": "code",
      "metadata": {
        "id": "YrfM_Mv1DeLZ",
        "colab_type": "code",
        "outputId": "e4427774-edb2-4c39-cc78-7294ba127ed8",
        "colab": {
          "base_uri": "https://localhost:8080/",
          "height": 71
        }
      },
      "source": [
        "uk_emb = KeyedVectors.load_word2vec_format(\"https://dl.fbaipublicfiles.com/fasttext/vectors-crawl/cc.uk.300.vec.gz\")"
      ],
      "execution_count": 0,
      "outputs": [
        {
          "output_type": "stream",
          "text": [
            "/usr/local/lib/python3.6/dist-packages/smart_open/smart_open_lib.py:253: UserWarning: This function is deprecated, use smart_open.open instead. See the migration notes for details: https://github.com/RaRe-Technologies/smart_open/blob/master/README.rst#migrating-to-the-new-open-function\n",
            "  'See the migration notes for details: %s' % _MIGRATION_NOTES_URL\n"
          ],
          "name": "stderr"
        }
      ]
    },
    {
      "cell_type": "code",
      "metadata": {
        "colab_type": "code",
        "id": "ffzuept_7ufd",
        "outputId": "eb3b84e4-82f5-47e4-d7d1-463a0fac90c6",
        "colab": {
          "base_uri": "https://localhost:8080/",
          "height": 71
        }
      },
      "source": [
        "ru_emb = KeyedVectors.load_word2vec_format(\"https://dl.fbaipublicfiles.com/fasttext/vectors-crawl/cc.ru.300.vec.gz\")"
      ],
      "execution_count": 0,
      "outputs": [
        {
          "output_type": "stream",
          "text": [
            "/usr/local/lib/python3.6/dist-packages/smart_open/smart_open_lib.py:253: UserWarning: This function is deprecated, use smart_open.open instead. See the migration notes for details: https://github.com/RaRe-Technologies/smart_open/blob/master/README.rst#migrating-to-the-new-open-function\n",
            "  'See the migration notes for details: %s' % _MIGRATION_NOTES_URL\n"
          ],
          "name": "stderr"
        }
      ]
    },
    {
      "cell_type": "code",
      "metadata": {
        "colab_type": "code",
        "id": "nTkXfT0W7ufk",
        "outputId": "881b8c99-9939-4ba2-bd6e-e80b57f61a2e",
        "colab": {
          "base_uri": "https://localhost:8080/",
          "height": 241
        }
      },
      "source": [
        "ru_emb.most_similar([ru_emb[\"август\"]], topn=10) #august"
      ],
      "execution_count": 0,
      "outputs": [
        {
          "output_type": "stream",
          "text": [
            "/usr/local/lib/python3.6/dist-packages/gensim/matutils.py:737: FutureWarning: Conversion of the second argument of issubdtype from `int` to `np.signedinteger` is deprecated. In future, it will be treated as `np.int64 == np.dtype(int).type`.\n",
            "  if np.issubdtype(vec.dtype, np.int):\n"
          ],
          "name": "stderr"
        },
        {
          "output_type": "execute_result",
          "data": {
            "text/plain": [
              "[('август', 1.0),\n",
              " ('июль', 0.9383153915405273),\n",
              " ('сентябрь', 0.9240028858184814),\n",
              " ('июнь', 0.9222575426101685),\n",
              " ('октябрь', 0.9095538854598999),\n",
              " ('ноябрь', 0.8930036425590515),\n",
              " ('апрель', 0.8729087114334106),\n",
              " ('декабрь', 0.8652557730674744),\n",
              " ('март', 0.8545796275138855),\n",
              " ('февраль', 0.8401416540145874)]"
            ]
          },
          "metadata": {
            "tags": []
          },
          "execution_count": 47
        }
      ]
    },
    {
      "cell_type": "code",
      "metadata": {
        "colab_type": "code",
        "id": "vdBA8lcg7ufs",
        "outputId": "951d8312-c9d0-4eec-89b9-4640a208ee8d",
        "colab": {
          "base_uri": "https://localhost:8080/",
          "height": 241
        }
      },
      "source": [
        "uk_emb.most_similar([uk_emb[\"серпень\"]])"
      ],
      "execution_count": 0,
      "outputs": [
        {
          "output_type": "stream",
          "text": [
            "/usr/local/lib/python3.6/dist-packages/gensim/matutils.py:737: FutureWarning: Conversion of the second argument of issubdtype from `int` to `np.signedinteger` is deprecated. In future, it will be treated as `np.int64 == np.dtype(int).type`.\n",
            "  if np.issubdtype(vec.dtype, np.int):\n"
          ],
          "name": "stderr"
        },
        {
          "output_type": "execute_result",
          "data": {
            "text/plain": [
              "[('серпень', 0.9999999403953552),\n",
              " ('липень', 0.9096440076828003),\n",
              " ('вересень', 0.901697039604187),\n",
              " ('червень', 0.8992519378662109),\n",
              " ('жовтень', 0.8810408711433411),\n",
              " ('листопад', 0.8787633776664734),\n",
              " ('квітень', 0.8592804670333862),\n",
              " ('грудень', 0.8586863279342651),\n",
              " ('травень', 0.8408110737800598),\n",
              " ('лютий', 0.8256431818008423)]"
            ]
          },
          "metadata": {
            "tags": []
          },
          "execution_count": 48
        }
      ]
    },
    {
      "cell_type": "code",
      "metadata": {
        "colab_type": "code",
        "id": "_yJvcKXO7uf0",
        "outputId": "af77f94f-3ec1-40d1-ef69-412ad5fe9e56",
        "colab": {
          "base_uri": "https://localhost:8080/",
          "height": 241
        }
      },
      "source": [
        "ru_emb.most_similar([uk_emb[\"серпень\"]])"
      ],
      "execution_count": 0,
      "outputs": [
        {
          "output_type": "stream",
          "text": [
            "/usr/local/lib/python3.6/dist-packages/gensim/matutils.py:737: FutureWarning: Conversion of the second argument of issubdtype from `int` to `np.signedinteger` is deprecated. In future, it will be treated as `np.int64 == np.dtype(int).type`.\n",
            "  if np.issubdtype(vec.dtype, np.int):\n"
          ],
          "name": "stderr"
        },
        {
          "output_type": "execute_result",
          "data": {
            "text/plain": [
              "[('Stepashka.com', 0.2757962942123413),\n",
              " ('ЖИЗНИВадим', 0.25203436613082886),\n",
              " ('2Дмитрий', 0.25048112869262695),\n",
              " ('2012Дмитрий', 0.24829231202602386),\n",
              " ('Ведущий-Алексей', 0.2443869560956955),\n",
              " ('Недопустимость', 0.24435284733772278),\n",
              " ('2Михаил', 0.23981399834156036),\n",
              " ('лексей', 0.23740756511688232),\n",
              " ('комплексн', 0.23695150017738342),\n",
              " ('персональ', 0.2368222028017044)]"
            ]
          },
          "metadata": {
            "tags": []
          },
          "execution_count": 49
        }
      ]
    },
    {
      "cell_type": "markdown",
      "metadata": {
        "colab_type": "text",
        "id": "pNdYAR1q7uf6"
      },
      "source": [
        "Loading small dictionaries for correspoinding words pairs as trainset and testset."
      ]
    },
    {
      "cell_type": "code",
      "metadata": {
        "colab_type": "code",
        "id": "35d_DAK67uf8",
        "colab": {}
      },
      "source": [
        "def load_word_pairs(filename):\n",
        "    uk_ru_pairs = []\n",
        "    uk_vectors = []\n",
        "    ru_vectors = []\n",
        "    with open(filename, \"r\") as inpf:\n",
        "        for line in inpf:\n",
        "            uk, ru = line.rstrip().split(\"\\t\")\n",
        "            if uk not in uk_emb or ru not in ru_emb:\n",
        "                continue\n",
        "            uk_ru_pairs.append((uk, ru))\n",
        "            uk_vectors.append(uk_emb[uk])\n",
        "            ru_vectors.append(ru_emb[ru])\n",
        "    return uk_ru_pairs, np.array(uk_vectors), np.array(ru_vectors)"
      ],
      "execution_count": 0,
      "outputs": []
    },
    {
      "cell_type": "code",
      "metadata": {
        "colab_type": "code",
        "id": "wkNL602WHJyO",
        "outputId": "da7fdd5a-9b6b-43de-db74-649ee7ce8620",
        "colab": {
          "base_uri": "https://localhost:8080/",
          "height": 357
        }
      },
      "source": [
        "!wget -O ukr_rus.train.txt http://tiny.cc/jfgecz"
      ],
      "execution_count": 0,
      "outputs": [
        {
          "output_type": "stream",
          "text": [
            "--2020-05-13 06:54:40--  http://tiny.cc/jfgecz\n",
            "Resolving tiny.cc (tiny.cc)... 192.241.240.89\n",
            "Connecting to tiny.cc (tiny.cc)|192.241.240.89|:80... connected.\n",
            "HTTP request sent, awaiting response... 301 Moved Permanently\n",
            "Location: https://tiny.cc/jfgecz [following]\n",
            "--2020-05-13 06:54:41--  https://tiny.cc/jfgecz\n",
            "Connecting to tiny.cc (tiny.cc)|192.241.240.89|:443... connected.\n",
            "HTTP request sent, awaiting response... 303 See Other\n",
            "Location: https://raw.githubusercontent.com/yandexdataschool/nlp_course/master/week01_embeddings/ukr_rus.train.txt [following]\n",
            "--2020-05-13 06:54:41--  https://raw.githubusercontent.com/yandexdataschool/nlp_course/master/week01_embeddings/ukr_rus.train.txt\n",
            "Resolving raw.githubusercontent.com (raw.githubusercontent.com)... 151.101.0.133, 151.101.64.133, 151.101.128.133, ...\n",
            "Connecting to raw.githubusercontent.com (raw.githubusercontent.com)|151.101.0.133|:443... connected.\n",
            "HTTP request sent, awaiting response... 200 OK\n",
            "Length: 59351 (58K) [text/plain]\n",
            "Saving to: ‘ukr_rus.train.txt’\n",
            "\n",
            "\rukr_rus.train.txt     0%[                    ]       0  --.-KB/s               \rukr_rus.train.txt   100%[===================>]  57.96K  --.-KB/s    in 0.008s  \n",
            "\n",
            "2020-05-13 06:54:41 (7.39 MB/s) - ‘ukr_rus.train.txt’ saved [59351/59351]\n",
            "\n"
          ],
          "name": "stdout"
        }
      ]
    },
    {
      "cell_type": "code",
      "metadata": {
        "colab_type": "code",
        "id": "uoclU6JcHCcn",
        "outputId": "4d6f0006-8e57-424f-c396-2dd9bef44d84",
        "colab": {
          "base_uri": "https://localhost:8080/",
          "height": 357
        }
      },
      "source": [
        "!wget -O ukr_rus.test.txt http://tiny.cc/6zoeez"
      ],
      "execution_count": 0,
      "outputs": [
        {
          "output_type": "stream",
          "text": [
            "--2020-05-13 06:54:43--  http://tiny.cc/6zoeez\n",
            "Resolving tiny.cc (tiny.cc)... 192.241.240.89\n",
            "Connecting to tiny.cc (tiny.cc)|192.241.240.89|:80... connected.\n",
            "HTTP request sent, awaiting response... 301 Moved Permanently\n",
            "Location: https://tiny.cc/6zoeez [following]\n",
            "--2020-05-13 06:54:43--  https://tiny.cc/6zoeez\n",
            "Connecting to tiny.cc (tiny.cc)|192.241.240.89|:443... connected.\n",
            "HTTP request sent, awaiting response... 303 See Other\n",
            "Location: https://raw.githubusercontent.com/yandexdataschool/nlp_course/master/week01_embeddings/ukr_rus.test.txt [following]\n",
            "--2020-05-13 06:54:43--  https://raw.githubusercontent.com/yandexdataschool/nlp_course/master/week01_embeddings/ukr_rus.test.txt\n",
            "Resolving raw.githubusercontent.com (raw.githubusercontent.com)... 151.101.0.133, 151.101.64.133, 151.101.128.133, ...\n",
            "Connecting to raw.githubusercontent.com (raw.githubusercontent.com)|151.101.0.133|:443... connected.\n",
            "HTTP request sent, awaiting response... 200 OK\n",
            "Length: 12188 (12K) [text/plain]\n",
            "Saving to: ‘ukr_rus.test.txt’\n",
            "\n",
            "\rukr_rus.test.txt      0%[                    ]       0  --.-KB/s               \rukr_rus.test.txt    100%[===================>]  11.90K  --.-KB/s    in 0s      \n",
            "\n",
            "2020-05-13 06:54:44 (76.3 MB/s) - ‘ukr_rus.test.txt’ saved [12188/12188]\n",
            "\n"
          ],
          "name": "stdout"
        }
      ]
    },
    {
      "cell_type": "code",
      "metadata": {
        "colab_type": "code",
        "id": "05BqsdSK7ugD",
        "colab": {}
      },
      "source": [
        "uk_ru_train, X_train, Y_train = load_word_pairs(\"ukr_rus.train.txt\")"
      ],
      "execution_count": 0,
      "outputs": []
    },
    {
      "cell_type": "code",
      "metadata": {
        "colab_type": "code",
        "id": "zQOZw51r7ugL",
        "colab": {}
      },
      "source": [
        "uk_ru_test, X_test, Y_test = load_word_pairs(\"ukr_rus.test.txt\")"
      ],
      "execution_count": 0,
      "outputs": []
    },
    {
      "cell_type": "markdown",
      "metadata": {
        "colab_type": "text",
        "id": "-ZBBNvpz7ugQ"
      },
      "source": [
        "## Embedding space mapping"
      ]
    },
    {
      "cell_type": "markdown",
      "metadata": {
        "colab_type": "text",
        "id": "x_Dhk5gL7ugS"
      },
      "source": [
        "Let $x_i \\in \\mathrm{R}^d$ be the distributed representation of word $i$ in the source language, and $y_i \\in \\mathrm{R}^d$ is the vector representation of its translation. Our purpose is to learn such linear transform $W$ that minimizes euclidian distance between $Wx_i$ and $y_i$ for some subset of word embeddings. Thus we can formulate so-called Procrustes problem:\n",
        "\n",
        "$$W^*= \\arg\\min_W \\sum_{i=1}^n||Wx_i - y_i||_2$$\n",
        "or\n",
        "$$W^*= \\arg\\min_W ||WX - Y||_F$$\n",
        "\n",
        "where $||*||_F$ - Frobenius norm."
      ]
    },
    {
      "cell_type": "markdown",
      "metadata": {
        "colab_type": "text",
        "id": "acOjDdtL7ugY"
      },
      "source": [
        "$W^*= \\arg\\min_W \\sum_{i=1}^n||Wx_i - y_i||_2$ looks like simple multiple linear regression (without intercept fit)."
      ]
    },
    {
      "cell_type": "code",
      "metadata": {
        "colab_type": "code",
        "id": "Lb-KN1be7uga",
        "colab": {}
      },
      "source": [
        "from sklearn.linear_model import LinearRegression\n",
        "mapping = LinearRegression(fit_intercept=False).fit(X_train, Y_train)"
      ],
      "execution_count": 0,
      "outputs": []
    },
    {
      "cell_type": "markdown",
      "metadata": {
        "colab_type": "text",
        "id": "X7tqJwoY7ugf"
      },
      "source": [
        "Let's take a look at neigbours of the vector of word _\"серпень\"_ (_\"август\"_ in Russian) after linear transform."
      ]
    },
    {
      "cell_type": "code",
      "metadata": {
        "colab_type": "code",
        "id": "31SrFSbn7ugi",
        "outputId": "962d90fc-3064-4f56-da42-2c8afd4245b0",
        "colab": {
          "base_uri": "https://localhost:8080/",
          "height": 241
        }
      },
      "source": [
        "august = mapping.predict(uk_emb[\"серпень\"].reshape(1, -1))\n",
        "ru_emb.most_similar(august)"
      ],
      "execution_count": 0,
      "outputs": [
        {
          "output_type": "stream",
          "text": [
            "/usr/local/lib/python3.6/dist-packages/gensim/matutils.py:737: FutureWarning: Conversion of the second argument of issubdtype from `int` to `np.signedinteger` is deprecated. In future, it will be treated as `np.int64 == np.dtype(int).type`.\n",
            "  if np.issubdtype(vec.dtype, np.int):\n"
          ],
          "name": "stderr"
        },
        {
          "output_type": "execute_result",
          "data": {
            "text/plain": [
              "[('апрель', 0.8531432747840881),\n",
              " ('июнь', 0.8402522802352905),\n",
              " ('март', 0.8385884165763855),\n",
              " ('сентябрь', 0.8331484794616699),\n",
              " ('февраль', 0.8311208486557007),\n",
              " ('октябрь', 0.8278019428253174),\n",
              " ('ноябрь', 0.8243728280067444),\n",
              " ('июль', 0.8229618072509766),\n",
              " ('август', 0.8112280368804932),\n",
              " ('январь', 0.8022986650466919)]"
            ]
          },
          "metadata": {
            "tags": []
          },
          "execution_count": 56
        }
      ]
    },
    {
      "cell_type": "markdown",
      "metadata": {
        "colab_type": "text",
        "id": "okSkjk597ugo"
      },
      "source": [
        "We can see that neighbourhood of this embedding cosists of different months, but right variant is on the ninth place."
      ]
    },
    {
      "cell_type": "markdown",
      "metadata": {
        "colab_type": "text",
        "id": "o2uY6Y9B7ugt"
      },
      "source": [
        "As quality measure we will use precision top-1, top-5 and top-10 (for each transformed Ukrainian embedding we count how many right target pairs are found in top N nearest neighbours in Russian embedding space)."
      ]
    },
    {
      "cell_type": "code",
      "metadata": {
        "colab_type": "code",
        "id": "zptuho8LAfIE",
        "colab": {}
      },
      "source": [
        "def precision(pairs, mapped_vectors, topn=1):\n",
        "    \"\"\"\n",
        "    :args:\n",
        "        pairs = list of right word pairs [(uk_word_0, ru_word_0), ...]\n",
        "        mapped_vectors = list of embeddings after mapping from source embedding space to destination embedding space\n",
        "        topn = the number of nearest neighbours in destination embedding space to choose from\n",
        "    :returns:\n",
        "        precision_val, float number, total number of words for those we can find right translation at top K.\n",
        "    \"\"\"\n",
        "    assert len(pairs) == len(mapped_vectors)\n",
        "    num_matches = 0\n",
        "    for i, (_, ru) in enumerate(pairs):\n",
        "      entry = mapping.predict(uk_emb[_].reshape(1, -1))\n",
        "      close_words = [k.lower() for j,(k,l) in enumerate(ru_emb.most_similar(entry,topn=topn))]\n",
        "      if ru in close_words:\n",
        "        num_matches+=1\n",
        "    precision_val = num_matches / len(pairs)\n",
        "    return precision_val"
      ],
      "execution_count": 0,
      "outputs": []
    },
    {
      "cell_type": "code",
      "metadata": {
        "id": "oLCTNWIqL50J",
        "colab_type": "code",
        "outputId": "e8109aec-e5f4-4d24-d6dd-12df4971dd9f",
        "colab": {
          "base_uri": "https://localhost:8080/",
          "height": 88
        }
      },
      "source": [
        "precision([(\"серпень\", \"август\")],august,topn=10)"
      ],
      "execution_count": 0,
      "outputs": [
        {
          "output_type": "stream",
          "text": [
            "/usr/local/lib/python3.6/dist-packages/gensim/matutils.py:737: FutureWarning: Conversion of the second argument of issubdtype from `int` to `np.signedinteger` is deprecated. In future, it will be treated as `np.int64 == np.dtype(int).type`.\n",
            "  if np.issubdtype(vec.dtype, np.int):\n"
          ],
          "name": "stderr"
        },
        {
          "output_type": "execute_result",
          "data": {
            "text/plain": [
              "1.0"
            ]
          },
          "metadata": {
            "tags": []
          },
          "execution_count": 58
        }
      ]
    },
    {
      "cell_type": "code",
      "metadata": {
        "colab_type": "code",
        "id": "7K-hy7a6Ksn2",
        "outputId": "1513434e-8895-4688-e82f-d8fc1c5fb996",
        "colab": {
          "base_uri": "https://localhost:8080/",
          "height": 51
        }
      },
      "source": [
        "print(precision_top1)\n",
        "print(precision_top5)"
      ],
      "execution_count": 0,
      "outputs": [
        {
          "output_type": "stream",
          "text": [
            "0.6310432569974554\n",
            "0.7938931297709924\n"
          ],
          "name": "stdout"
        }
      ]
    },
    {
      "cell_type": "markdown",
      "metadata": {
        "colab_type": "text",
        "id": "hf6Ou8bx7uhH"
      },
      "source": [
        "## Making it better (orthogonal Procrustean problem) (0.3 pts)"
      ]
    },
    {
      "cell_type": "markdown",
      "metadata": {
        "colab_type": "text",
        "id": "4oLs-drN7uhK"
      },
      "source": [
        "It can be shown (see original paper) that a self-consistent linear mapping between semantic spaces should be orthogonal. \n",
        "We can restrict transform $W$ to be orthogonal. Then we will solve next problem:\n",
        "\n",
        "$$W^*= \\arg\\min_W ||WX - Y||_F \\text{, where: } W^TW = I$$\n",
        "\n",
        "$$I \\text{- identity matrix}$$\n",
        "\n",
        "Instead of making yet another regression problem we can find optimal orthogonal transformation using singular value decomposition. It turns out that optimal transformation $W^*$ can be expressed via SVD components:\n",
        "$$X^TY=U\\Sigma V^T\\text{, singular value decompostion}$$\n",
        "$$W^*=UV^T$$"
      ]
    },
    {
      "cell_type": "code",
      "metadata": {
        "colab_type": "code",
        "id": "_KSaRJFGMFiJ",
        "colab": {}
      },
      "source": [
        "import numpy as np"
      ],
      "execution_count": 0,
      "outputs": []
    },
    {
      "cell_type": "code",
      "metadata": {
        "colab_type": "code",
        "id": "DdFQ7qti7uhL",
        "colab": {}
      },
      "source": [
        "def learn_transform(X_train, Y_train):\n",
        "    \"\"\" \n",
        "    :returns: W* : float matrix[emb_dim x emb_dim] as defined in formulae above\n",
        "    \"\"\"\n",
        "    u, s, vt = np.linalg.svd(np.matmul(X_train.T,Y_train))\n",
        "    mapping = np.matmul(u,vt)\n",
        "    return mapping"
      ],
      "execution_count": 0,
      "outputs": []
    },
    {
      "cell_type": "code",
      "metadata": {
        "colab_type": "code",
        "id": "7X7QfYDd7uhQ",
        "colab": {}
      },
      "source": [
        "W = learn_transform(X_train, Y_train)"
      ],
      "execution_count": 0,
      "outputs": []
    },
    {
      "cell_type": "code",
      "metadata": {
        "colab_type": "code",
        "id": "OVOFYYa37uhX",
        "outputId": "de299778-1804-4133-8de0-64b32a133e73",
        "colab": {
          "base_uri": "https://localhost:8080/",
          "height": 241
        }
      },
      "source": [
        "ru_emb.most_similar([np.matmul(uk_emb[\"серпень\"], W)])"
      ],
      "execution_count": 0,
      "outputs": [
        {
          "output_type": "stream",
          "text": [
            "/usr/local/lib/python3.6/dist-packages/gensim/matutils.py:737: FutureWarning: Conversion of the second argument of issubdtype from `int` to `np.signedinteger` is deprecated. In future, it will be treated as `np.int64 == np.dtype(int).type`.\n",
            "  if np.issubdtype(vec.dtype, np.int):\n"
          ],
          "name": "stderr"
        },
        {
          "output_type": "execute_result",
          "data": {
            "text/plain": [
              "[('апрель', 0.8245131373405457),\n",
              " ('июнь', 0.8056631088256836),\n",
              " ('сентябрь', 0.8055763244628906),\n",
              " ('март', 0.8032934069633484),\n",
              " ('октябрь', 0.798710286617279),\n",
              " ('июль', 0.7946796417236328),\n",
              " ('ноябрь', 0.7939636707305908),\n",
              " ('август', 0.7938191294670105),\n",
              " ('февраль', 0.7923860549926758),\n",
              " ('декабрь', 0.7715376615524292)]"
            ]
          },
          "metadata": {
            "tags": []
          },
          "execution_count": 69
        }
      ]
    },
    {
      "cell_type": "markdown",
      "metadata": {
        "colab_type": "text",
        "id": "hvUZ72U5AfJg"
      },
      "source": [
        "## Unsupervised embedding-based MT"
      ]
    },
    {
      "cell_type": "markdown",
      "metadata": {
        "colab_type": "text",
        "id": "LLyuVfHBLrJn"
      },
      "source": [
        "Now, let's build our word embeddings-based translator!"
      ]
    },
    {
      "cell_type": "markdown",
      "metadata": {
        "colab_type": "text",
        "id": "tPAURW1CMuP7"
      },
      "source": [
        "We will use OPUS Tatoeba corpus."
      ]
    },
    {
      "cell_type": "code",
      "metadata": {
        "colab_type": "code",
        "id": "F80kUKzQMsDu",
        "outputId": "7b4a02a2-cf10-4749-d53f-43ea12fead82",
        "colab": {
          "base_uri": "https://localhost:8080/",
          "height": 204
        }
      },
      "source": [
        "!wget https://object.pouta.csc.fi/OPUS-Tatoeba/v20190709/mono/uk.txt.gz"
      ],
      "execution_count": 0,
      "outputs": [
        {
          "output_type": "stream",
          "text": [
            "--2020-05-13 07:04:25--  https://object.pouta.csc.fi/OPUS-Tatoeba/v20190709/mono/uk.txt.gz\n",
            "Resolving object.pouta.csc.fi (object.pouta.csc.fi)... 86.50.254.18, 86.50.254.19\n",
            "Connecting to object.pouta.csc.fi (object.pouta.csc.fi)|86.50.254.18|:443... connected.\n",
            "HTTP request sent, awaiting response... 200 OK\n",
            "Length: 1819128 (1.7M) [application/gzip]\n",
            "Saving to: ‘uk.txt.gz’\n",
            "\n",
            "\ruk.txt.gz             0%[                    ]       0  --.-KB/s               \ruk.txt.gz            41%[=======>            ] 739.75K  3.24MB/s               \ruk.txt.gz           100%[===================>]   1.73M  6.64MB/s    in 0.3s    \n",
            "\n",
            "2020-05-13 07:04:25 (6.64 MB/s) - ‘uk.txt.gz’ saved [1819128/1819128]\n",
            "\n"
          ],
          "name": "stdout"
        }
      ]
    },
    {
      "cell_type": "code",
      "metadata": {
        "colab_type": "code",
        "id": "0CGFZoxCUVf1",
        "colab": {}
      },
      "source": [
        "!gzip -d ./uk.txt.gz"
      ],
      "execution_count": 0,
      "outputs": []
    },
    {
      "cell_type": "code",
      "metadata": {
        "colab_type": "code",
        "id": "2MV3VvoVUX5U",
        "colab": {}
      },
      "source": [
        "with open('./uk.txt', 'r') as f:\n",
        "    uk_corpus = f.readlines()"
      ],
      "execution_count": 0,
      "outputs": []
    },
    {
      "cell_type": "code",
      "metadata": {
        "colab_type": "code",
        "id": "tU7nPVf0UhbI",
        "colab": {}
      },
      "source": [
        "# To save  time and CPU, we use first 1000 sentences of the corpus\n",
        "uk_corpus = uk_corpus[:1000]"
      ],
      "execution_count": 0,
      "outputs": []
    },
    {
      "cell_type": "code",
      "metadata": {
        "colab_type": "code",
        "id": "FLN8dBOXAfJ1",
        "colab": {}
      },
      "source": [
        "uk_corpus = [string.lower() for string in uk_corpus]"
      ],
      "execution_count": 0,
      "outputs": []
    },
    {
      "cell_type": "code",
      "metadata": {
        "id": "QdB6N02i-xNT",
        "colab_type": "code",
        "colab": {}
      },
      "source": [
        "to_remove = ['\\n',',','.','!','?']\n",
        "for char in to_remove:\n",
        "  uk_corpus = [string.replace(char,'') for string in uk_corpus]"
      ],
      "execution_count": 0,
      "outputs": []
    },
    {
      "cell_type": "code",
      "metadata": {
        "id": "8ObO7uAl3Zxr",
        "colab_type": "code",
        "outputId": "66ba653b-8033-4026-ce7f-4553ff19c012",
        "colab": {
          "base_uri": "https://localhost:8080/",
          "height": 204
        }
      },
      "source": [
        "uk_corpus[:11]"
      ],
      "execution_count": 0,
      "outputs": [
        {
          "output_type": "execute_result",
          "data": {
            "text/plain": [
              "['я вже закінчу коледж коли ви вернетеся з америки',\n",
              " 'він наказав мені негайно вийти з кімнати',\n",
              " 'як би ти не намагався ти не вивчиш англійську за два-три місяці',\n",
              " 'поки я не подзвонив він не прийшов',\n",
              " 'у всесвіті багато галактик',\n",
              " 'вона приймає душ щоранку',\n",
              " 'неслухняний хлопчик заблукав й оглядався по сторонах',\n",
              " 'вона повільно зникала в туманному лісі',\n",
              " 'наш літак летів понад хмарами',\n",
              " 'у майка є декілька друзів у флориді',\n",
              " 'місто бомбардували ворожі літаки']"
            ]
          },
          "metadata": {
            "tags": []
          },
          "execution_count": 122
        }
      ]
    },
    {
      "cell_type": "code",
      "metadata": {
        "colab_type": "code",
        "id": "FGksC7l_NMi9",
        "colab": {}
      },
      "source": [
        "def translate(sentence):\n",
        "    \"\"\"\n",
        "    :args:\n",
        "        sentence - sentence in Ukrainian (str)\n",
        "    :returns:\n",
        "        translation - sentence in Russian (str)\n",
        "\n",
        "    * find ukrainian embedding for each word in sentence\n",
        "    * transform ukrainian embedding vector\n",
        "    * find nearest russian word and replace\n",
        "    \"\"\"\n",
        "    uk_words = sentence.split(\" \")\n",
        "    translated = [ru_emb.most_similar([np.matmul(uk_emb[uk_word], W)])[0][0] for uk_word in uk_words]\n",
        "    return \" \".join(translated)"
      ],
      "execution_count": 0,
      "outputs": []
    },
    {
      "cell_type": "code",
      "metadata": {
        "id": "0zp84EuP6VhX",
        "colab_type": "code",
        "outputId": "18a1f9b7-9c4e-4543-81af-cc725695375d",
        "colab": {
          "base_uri": "https://localhost:8080/",
          "height": 88
        }
      },
      "source": [
        "translate('місто бомбардували ворожі літаки')"
      ],
      "execution_count": 0,
      "outputs": [
        {
          "output_type": "stream",
          "text": [
            "/usr/local/lib/python3.6/dist-packages/gensim/matutils.py:737: FutureWarning: Conversion of the second argument of issubdtype from `int` to `np.signedinteger` is deprecated. In future, it will be treated as `np.int64 == np.dtype(int).type`.\n",
            "  if np.issubdtype(vec.dtype, np.int):\n"
          ],
          "name": "stderr"
        },
        {
          "output_type": "execute_result",
          "data": {
            "text/plain": [
              "'город бомбили враждебные самолеты'"
            ]
          },
          "metadata": {
            "tags": []
          },
          "execution_count": 125
        }
      ]
    },
    {
      "cell_type": "markdown",
      "metadata": {
        "colab_type": "text",
        "id": "ia6I2ce7O_HI"
      },
      "source": [
        "Now we can play with  model and try to get as accurate translations as possible. **Note**: one big issue is out-of-vocabulary words. For now, this simple model is not handling them."
      ]
    },
    {
      "cell_type": "code",
      "metadata": {
        "colab_type": "code",
        "id": "ap1W7ZCeOAVU",
        "outputId": "f2bc7a05-9c1d-4120-fa26-b067e9c8453e",
        "colab": {
          "base_uri": "https://localhost:8080/",
          "height": 1000
        }
      },
      "source": [
        "for sent in uk_corpus[::1]:\n",
        "    try:\n",
        "      print(translate(sent))\n",
        "    except KeyError:\n",
        "      continue"
      ],
      "execution_count": 0,
      "outputs": [
        {
          "output_type": "stream",
          "text": [
            "/usr/local/lib/python3.6/dist-packages/gensim/matutils.py:737: FutureWarning: Conversion of the second argument of issubdtype from `int` to `np.signedinteger` is deprecated. In future, it will be treated as `np.int64 == np.dtype(int).type`.\n",
            "  if np.issubdtype(vec.dtype, np.int):\n"
          ],
          "name": "stderr"
        },
        {
          "output_type": "stream",
          "text": [
            "мной уже закончу колледж когда мы прибежишь со америки\n",
            "он велел мне немедленно выйти со комнаты\n",
            "как бы ты не пытался ты не выучишь английский за два-три месяца\n",
            "пока мной не позвонил он не пришел\n",
            "во вселенной много галактик\n",
            "она принимает души утрам\n",
            "непослушный мальчик заблудился и проглядывался по сторонам\n",
            "она медленно исчезала во туманном лесу\n",
            "наш самолет летел свыше облаками\n",
            "город бомбили враждебные самолеты\n",
            "мной встретиться со тобой во субботу 00 третий\n",
            "для финансирование войны было издан облигации\n",
            "откуда принимают начало олимпийские игры\n",
            "мы собирались пробыть там возле двух недель\n",
            "как по меня то сейчас промолчу\n",
            "мой дядя вчера умер от рака желудке\n",
            "кажется дети устали от плавание\n",
            "нет любовь без ревности\n",
            "возможно мной антисоциальный конечно это не означает что мной не общаюсь со людьми\n",
            "мной не знаю что ещe можно сделать\n",
            "мной научился жить без неё\n",
            "действительно\n",
            "мне всегда больше нравились загадочные персонажи\n",
            "мной могу только ждать\n",
            "тебе лучше поспать\n",
            "обдумать это\n",
            "например тебе нравиться английский\n",
            "когда тебе будет удобно\n",
            "этого утра выпала роса\n",
            "о это озеро существует таинственная легенда\n",
            "мной прочел это повествование во какой-то книге\n",
            "полутом свободно разговаривает каной\n",
            "ты не знаешь куда мой часы\n",
            "То ещe одно вопрос оно нам так так надо обдумать\n",
            "читайте газеты каждый день Но иначе мы не будете во курсе последних новостей\n",
            "мы когда-то летали по воздушной шары\n",
            "ли продают во этой магазинчик тетрадки\n",
            "мной бегу какможно быстрее чтобы догнать его\n",
            "беда не приходит одна\n",
            "дайте любой пожалуйста стакан воды\n",
            "не все кто здесь живет богатые\n",
            "лекарства ускорили процесс роста\n",
            "мной видел как он бег\n",
            "мной хочу чтобы ты спел песню\n",
            "мне предложили поехать за границу конечно мной не хочу\n",
            "как ты относишься к того чтобы погулять во парка\n",
            "это лучший ресторан со морепродуктами во этом районе\n",
            "приближается рождество\n",
            "посмотри по тот дым\n",
            "широкими линиями по карте обозначены дороги\n",
            "мне не надо было поливать цветы\n",
            "как раз когда мной закончил начался дождь\n",
            "мной звоню тебе позже\n",
            "он сказал что собирается рискнуть\n",
            "женщина — это единственная животное она может смеяться\n",
            "мной чищу зубы дважды по день\n",
            "он нежно положил руку по ей плечо\n",
            "его знали все во селе\n",
            "мной заказал два гамбургера\n",
            "ты знаешь кто она такая\n",
            "сегодня ужасно холодно\n",
            "во ту сумму включены налоги\n",
            "та школа была основана во 1650 году\n",
            "мной случайно нашел этот ресторан\n",
            "та проблема возникла через неправильное понимание одно одного\n",
            "этот кондиционер потребляет много электроэнергии\n",
            "всё распродаваться\n",
            "мной не хотел никого обидеть\n",
            "тебе надо учитывать его возраст\n",
            "этот сад лучше выглядит весной\n",
            "этот сыр изготовлено со овечьего молока\n",
            "он спит как младенец\n",
            "во подобной человека ничего не может выйти\n",
            "джон не знает что делать дальше\n",
            "проблема во потому что это слишком дорого\n",
            "мной не могу позволить себе зря потратить хоть одну сэк\n",
            "гора покрыта снегом\n",
            "мной попал под дождь и промокала\n",
            "не обвиню во этом ей\n",
            "прошу дайте мне ещe один шанс\n",
            "мы знаешь столицу ирландии\n",
            "было очень приятно увидеть тебя снова\n",
            "мной всё сказал\n",
            "То случаи когда это правило не выполняется\n",
            "она бросила курить\n",
            "фильм растревожил всех зрителей\n",
            "по фотографии во девушки корона не со золота а со цветов\n",
            "не забывай нас\n",
            "выпало много снега\n",
            "идет снег\n",
            "может пойти снег\n",
            "дождь перешел во снег\n",
            "во нас во феврале идет снег\n",
            "снег расстаял\n",
            "снег исчез\n",
            "завтра пойдет снег\n",
            "во меня То мечта\n",
            "мне привиделся ужасный сон\n",
            "обычно мне снится дом\n",
            "наша компания планирует построить новый химический завод во россии\n",
            "россия столкнулась со серьезными финансовыми проблемами\n",
            "франция воевала со украиной\n",
            "Наполеон повел свое войско во гейропу\n",
            "во китае так так изучают английский\n",
            "та традиция зародилась во китае\n",
            "во меня То ещe один приятель во китае\n",
            "китай — наибольшая страна во азии\n",
            "он вернулся со китая\n",
            "он сочинил книжку о фарфора\n",
            "французским разговаривают во франции\n",
            "франция находится по востоке европы\n",
            "он был во франции\n",
            "гитлер повел германию во войну\n",
            "его родная страна — германия\n",
            "обыкн был во японии\n",
            "это азиатка\n",
            "мной живу во японии\n",
            "мной вернулся к японии\n",
            "ласково просим к японии\n",
            "шотландия известна своим кружевом\n",
            "тогда мексика ещe не была независимой от испании\n",
            "вот что мной купил во испании\n",
            "он кажется жил во испании\n",
            "Уотертаун — столица ирландии\n",
            "этот часы изготовлено во ирландии\n",
            "швейцария — красивая страна\n",
            "швейцария — нейтральная страна\n",
            "это потреблено во ирландии\n",
            "он уехал к ирландии\n",
            "мной поговорил со родителями касательно обучение за рубежом\n",
            "знать — это одно делать — другое\n",
            "он ждал по него к десятой часа\n",
            "полиция расследует причину несчастного случае\n",
            "во любом случае это не моя дело\n",
            "нам надо обращать внимание по сигнал светофора\n",
            "кроме всего этого он может читать по иврите\n",
            "джон пошел со этой компании и основал собственную\n",
            "этот дом огромный\n",
            "автобус скоро поедет\n",
            "вчера мы не были во школе\n",
            "по пиджаке То пуговицы\n",
            "ты можешь взять ту книгу даром\n",
            "она не красивее за свою мать\n",
            "определенные виды животных быстро исчезают\n",
            "нет сомнений касательно того кого выберут\n",
            "этого ты хотел\n",
            "прошу садитесь\n",
            "мэра замкнулась во комнате и закрыла все окна\n",
            "подойдет любой бумага\n",
            "удобно жить так около возле станции\n",
            "этот роман сочинил известный американский писатель\n",
            "мало студентов они понимают латинскую\n",
            "латинская — мертвая речь\n",
            "мной не сторонник теории что надо изучить латинскую чтобы лучше понять английский\n",
            "его родная страна — ливия\n",
            "во канаде разговаривают английском\n",
            "во канаде холодный климат\n",
            "когда мной был во голливуде мной его встретил\n",
            "любой пожалуйста не плач\n",
            "мной приду к тебя через час\n",
            "мной узнала о твой портативный дубликатор по tokyo Кафетерий expo 94\n",
            "по концерте было весело конечно во зале было холодно\n",
            "что ты здесь делаешь\n",
            "майку нравиться играть во баскетбол\n",
            "квочка высиживала яйца течение одного недели\n",
            "он знает что ты его влюбится\n",
            "тебе надо только убрать во себя во комнате\n",
            "тебе нравиться этот цвет\n",
            "по твоей рубашке отрывается пуговица\n",
            "потому что все его друзья тоже были бедными\n",
            "ты можешь придумать что-то лучше\n",
            "прекрасно\n",
            "мне никто ничего не дает\n",
            "мной знаю что ты богатый\n",
            "хааа\n",
            "половина яблок гнили\n",
            "тебе послышалось\n",
            "мной как-раз думал о новую работу\n",
            "угостить чем угодно\n",
            "иностранцам трудно изучать японскую\n",
            "скоро сестра будет со нами\n",
            "те кто всё забывают счастливые\n",
            "спроси во него ли знает он японскую\n",
            "это вино очень вкусное\n",
            "вкусного\n",
            "мной люблю тебя\n",
            "мной полюблю тебя\n",
            "жизни прекрасное\n",
            "мной имею шариковую ручку конечно хочу ещe одну\n",
            "та змея живая ли мертвая\n",
            "во этой реке опасно плавать\n",
            "мой дядя купил мне ту книгу\n",
            "сказанного не возьмешь вперед\n",
            "мной не знаю ли нравиться она тебе\n",
            "момент летит\n",
            "охотнички момент\n",
            "судьба способствует смелым\n",
            "мы учимся не для жизни а для школы\n",
            "пришел увидел победил\n",
            "жребий брошено\n",
            "женщина человеку волк\n",
            "когда двое делают что именно это не что именно\n",
            "мной не хочу тебя больше видеть\n",
            "прочь со моего жизни\n",
            "лошади — полезные животные\n",
            "иди медленнее\n",
            "демократия — худшая форма правление за исключением всех других они человечество попыталось к этого времени\n",
            "его дети выросли\n",
            "мной хожу к школы пешком\n",
            "борода не делает философом\n",
            "благодетельная презренья и всё — благодетельная\n",
            "история — учительница жизни\n",
            "со днем рождение\n",
            "каждому свое\n",
            "покуда живу — надеюсь\n",
            "молчание — знак согласия\n",
            "деньги не пахнут\n",
            "не моя дело\n",
            "почему он сбежал\n",
            "ты всегда поет\n",
            "она одетая будто невеста\n",
            "нету за что\n",
            "зимой рано темнеет\n",
            "ты имеешь презерватив\n",
            "мной едва не оставил зонтик во поезде\n",
            "дайте три будте ласковые\n",
            "не забудь билет\n"
          ],
          "name": "stdout"
        },
        {
          "output_type": "error",
          "ename": "KeyboardInterrupt",
          "evalue": "ignored",
          "traceback": [
            "\u001b[0;31m---------------------------------------------------------------------------\u001b[0m",
            "\u001b[0;31mKeyboardInterrupt\u001b[0m                         Traceback (most recent call last)",
            "\u001b[0;32m<ipython-input-129-1e86213bc7c3>\u001b[0m in \u001b[0;36m<module>\u001b[0;34m()\u001b[0m\n\u001b[1;32m      1\u001b[0m \u001b[0;32mfor\u001b[0m \u001b[0msent\u001b[0m \u001b[0;32min\u001b[0m \u001b[0muk_corpus\u001b[0m\u001b[0;34m[\u001b[0m\u001b[0;34m:\u001b[0m\u001b[0;34m:\u001b[0m\u001b[0;36m1\u001b[0m\u001b[0;34m]\u001b[0m\u001b[0;34m:\u001b[0m\u001b[0;34m\u001b[0m\u001b[0;34m\u001b[0m\u001b[0m\n\u001b[1;32m      2\u001b[0m     \u001b[0;32mtry\u001b[0m\u001b[0;34m:\u001b[0m\u001b[0;34m\u001b[0m\u001b[0;34m\u001b[0m\u001b[0m\n\u001b[0;32m----> 3\u001b[0;31m       \u001b[0mprint\u001b[0m\u001b[0;34m(\u001b[0m\u001b[0mtranslate\u001b[0m\u001b[0;34m(\u001b[0m\u001b[0msent\u001b[0m\u001b[0;34m)\u001b[0m\u001b[0;34m)\u001b[0m\u001b[0;34m\u001b[0m\u001b[0;34m\u001b[0m\u001b[0m\n\u001b[0m\u001b[1;32m      4\u001b[0m     \u001b[0;32mexcept\u001b[0m \u001b[0mKeyError\u001b[0m\u001b[0;34m:\u001b[0m\u001b[0;34m\u001b[0m\u001b[0;34m\u001b[0m\u001b[0m\n\u001b[1;32m      5\u001b[0m       \u001b[0;32mcontinue\u001b[0m\u001b[0;34m\u001b[0m\u001b[0;34m\u001b[0m\u001b[0m\n",
            "\u001b[0;32m<ipython-input-123-75deb1db9891>\u001b[0m in \u001b[0;36mtranslate\u001b[0;34m(sentence)\u001b[0m\n\u001b[1;32m     13\u001b[0m     \u001b[0;31m#W = learn_transform(X_train, Y_train)\u001b[0m\u001b[0;34m\u001b[0m\u001b[0;34m\u001b[0m\u001b[0;34m\u001b[0m\u001b[0m\n\u001b[1;32m     14\u001b[0m     \u001b[0muk_words\u001b[0m \u001b[0;34m=\u001b[0m \u001b[0msentence\u001b[0m\u001b[0;34m.\u001b[0m\u001b[0msplit\u001b[0m\u001b[0;34m(\u001b[0m\u001b[0;34m\" \"\u001b[0m\u001b[0;34m)\u001b[0m\u001b[0;34m\u001b[0m\u001b[0;34m\u001b[0m\u001b[0m\n\u001b[0;32m---> 15\u001b[0;31m     \u001b[0mtranslated\u001b[0m \u001b[0;34m=\u001b[0m \u001b[0;34m[\u001b[0m\u001b[0mru_emb\u001b[0m\u001b[0;34m.\u001b[0m\u001b[0mmost_similar\u001b[0m\u001b[0;34m(\u001b[0m\u001b[0;34m[\u001b[0m\u001b[0mnp\u001b[0m\u001b[0;34m.\u001b[0m\u001b[0mmatmul\u001b[0m\u001b[0;34m(\u001b[0m\u001b[0muk_emb\u001b[0m\u001b[0;34m[\u001b[0m\u001b[0muk_word\u001b[0m\u001b[0;34m]\u001b[0m\u001b[0;34m,\u001b[0m \u001b[0mW\u001b[0m\u001b[0;34m)\u001b[0m\u001b[0;34m]\u001b[0m\u001b[0;34m)\u001b[0m\u001b[0;34m[\u001b[0m\u001b[0;36m0\u001b[0m\u001b[0;34m]\u001b[0m\u001b[0;34m[\u001b[0m\u001b[0;36m0\u001b[0m\u001b[0;34m]\u001b[0m \u001b[0;32mfor\u001b[0m \u001b[0muk_word\u001b[0m \u001b[0;32min\u001b[0m \u001b[0muk_words\u001b[0m\u001b[0;34m]\u001b[0m\u001b[0;34m\u001b[0m\u001b[0;34m\u001b[0m\u001b[0m\n\u001b[0m\u001b[1;32m     16\u001b[0m     \u001b[0;32mreturn\u001b[0m \u001b[0;34m\" \"\u001b[0m\u001b[0;34m.\u001b[0m\u001b[0mjoin\u001b[0m\u001b[0;34m(\u001b[0m\u001b[0mtranslated\u001b[0m\u001b[0;34m)\u001b[0m\u001b[0;34m\u001b[0m\u001b[0;34m\u001b[0m\u001b[0m\n",
            "\u001b[0;32m<ipython-input-123-75deb1db9891>\u001b[0m in \u001b[0;36m<listcomp>\u001b[0;34m(.0)\u001b[0m\n\u001b[1;32m     13\u001b[0m     \u001b[0;31m#W = learn_transform(X_train, Y_train)\u001b[0m\u001b[0;34m\u001b[0m\u001b[0;34m\u001b[0m\u001b[0;34m\u001b[0m\u001b[0m\n\u001b[1;32m     14\u001b[0m     \u001b[0muk_words\u001b[0m \u001b[0;34m=\u001b[0m \u001b[0msentence\u001b[0m\u001b[0;34m.\u001b[0m\u001b[0msplit\u001b[0m\u001b[0;34m(\u001b[0m\u001b[0;34m\" \"\u001b[0m\u001b[0;34m)\u001b[0m\u001b[0;34m\u001b[0m\u001b[0;34m\u001b[0m\u001b[0m\n\u001b[0;32m---> 15\u001b[0;31m     \u001b[0mtranslated\u001b[0m \u001b[0;34m=\u001b[0m \u001b[0;34m[\u001b[0m\u001b[0mru_emb\u001b[0m\u001b[0;34m.\u001b[0m\u001b[0mmost_similar\u001b[0m\u001b[0;34m(\u001b[0m\u001b[0;34m[\u001b[0m\u001b[0mnp\u001b[0m\u001b[0;34m.\u001b[0m\u001b[0mmatmul\u001b[0m\u001b[0;34m(\u001b[0m\u001b[0muk_emb\u001b[0m\u001b[0;34m[\u001b[0m\u001b[0muk_word\u001b[0m\u001b[0;34m]\u001b[0m\u001b[0;34m,\u001b[0m \u001b[0mW\u001b[0m\u001b[0;34m)\u001b[0m\u001b[0;34m]\u001b[0m\u001b[0;34m)\u001b[0m\u001b[0;34m[\u001b[0m\u001b[0;36m0\u001b[0m\u001b[0;34m]\u001b[0m\u001b[0;34m[\u001b[0m\u001b[0;36m0\u001b[0m\u001b[0;34m]\u001b[0m \u001b[0;32mfor\u001b[0m \u001b[0muk_word\u001b[0m \u001b[0;32min\u001b[0m \u001b[0muk_words\u001b[0m\u001b[0;34m]\u001b[0m\u001b[0;34m\u001b[0m\u001b[0;34m\u001b[0m\u001b[0m\n\u001b[0m\u001b[1;32m     16\u001b[0m     \u001b[0;32mreturn\u001b[0m \u001b[0;34m\" \"\u001b[0m\u001b[0;34m.\u001b[0m\u001b[0mjoin\u001b[0m\u001b[0;34m(\u001b[0m\u001b[0mtranslated\u001b[0m\u001b[0;34m)\u001b[0m\u001b[0;34m\u001b[0m\u001b[0;34m\u001b[0m\u001b[0m\n",
            "\u001b[0;32m/usr/local/lib/python3.6/dist-packages/gensim/models/keyedvectors.py\u001b[0m in \u001b[0;36mmost_similar\u001b[0;34m(self, positive, negative, topn, restrict_vocab, indexer)\u001b[0m\n\u001b[1;32m    540\u001b[0m \u001b[0;34m\u001b[0m\u001b[0m\n\u001b[1;32m    541\u001b[0m         \u001b[0mlimited\u001b[0m \u001b[0;34m=\u001b[0m \u001b[0mself\u001b[0m\u001b[0;34m.\u001b[0m\u001b[0mvectors_norm\u001b[0m \u001b[0;32mif\u001b[0m \u001b[0mrestrict_vocab\u001b[0m \u001b[0;32mis\u001b[0m \u001b[0;32mNone\u001b[0m \u001b[0;32melse\u001b[0m \u001b[0mself\u001b[0m\u001b[0;34m.\u001b[0m\u001b[0mvectors_norm\u001b[0m\u001b[0;34m[\u001b[0m\u001b[0;34m:\u001b[0m\u001b[0mrestrict_vocab\u001b[0m\u001b[0;34m]\u001b[0m\u001b[0;34m\u001b[0m\u001b[0;34m\u001b[0m\u001b[0m\n\u001b[0;32m--> 542\u001b[0;31m         \u001b[0mdists\u001b[0m \u001b[0;34m=\u001b[0m \u001b[0mdot\u001b[0m\u001b[0;34m(\u001b[0m\u001b[0mlimited\u001b[0m\u001b[0;34m,\u001b[0m \u001b[0mmean\u001b[0m\u001b[0;34m)\u001b[0m\u001b[0;34m\u001b[0m\u001b[0;34m\u001b[0m\u001b[0m\n\u001b[0m\u001b[1;32m    543\u001b[0m         \u001b[0;32mif\u001b[0m \u001b[0;32mnot\u001b[0m \u001b[0mtopn\u001b[0m\u001b[0;34m:\u001b[0m\u001b[0;34m\u001b[0m\u001b[0;34m\u001b[0m\u001b[0m\n\u001b[1;32m    544\u001b[0m             \u001b[0;32mreturn\u001b[0m \u001b[0mdists\u001b[0m\u001b[0;34m\u001b[0m\u001b[0;34m\u001b[0m\u001b[0m\n",
            "\u001b[0;32m<__array_function__ internals>\u001b[0m in \u001b[0;36mdot\u001b[0;34m(*args, **kwargs)\u001b[0m\n",
            "\u001b[0;31mKeyboardInterrupt\u001b[0m: "
          ]
        }
      ]
    }
  ]
}